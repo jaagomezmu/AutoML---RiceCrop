{
 "cells": [
  {
   "cell_type": "code",
   "execution_count": 1,
   "metadata": {},
   "outputs": [],
   "source": [
    "from pycaret.clustering import *\n",
    "import pandas as pd "
   ]
  },
  {
   "cell_type": "code",
   "execution_count": 2,
   "metadata": {},
   "outputs": [],
   "source": [
    "sugarcane = pd.read_csv('described_sugarcane.csv')"
   ]
  },
  {
   "cell_type": "code",
   "execution_count": 3,
   "metadata": {},
   "outputs": [],
   "source": [
    "# Average by feature\n",
    "# Densidad aparente 0 - 30 cm\n",
    "sugarcane['densidad_aparente_0-30cm_mean'] = (sugarcane['bdod_0-5cm_mean'] + sugarcane['bdod_5-15cm_mean'] + sugarcane['bdod_15-30cm_mean'])/3\n",
    "# Capacidad de intercambio catiónico\n",
    "sugarcane['intercambio_catiónico_0-30cm_mean'] = (sugarcane['cec_0-5cm_mean'] + sugarcane['cec_5-15cm_mean'] + sugarcane['cec_15-30cm_mean'])/3\n",
    "# Fracción gruesa\n",
    "sugarcane['fraccion_gruesa_0-30cm_mean'] = (sugarcane['cfvo_0-5cm_mean'] + sugarcane['cfvo_5-15cm_mean'] + sugarcane['cfvo_15-30cm_mean'])/3\n",
    "# Arcillas\n",
    "sugarcane['arcillas_0-30cm_mean'] = (sugarcane['clay_0-5cm_mean'] + sugarcane['clay_5-15cm_mean'] + sugarcane['clay_15-30cm_mean'])/3\n",
    "# Nitrógeno\n",
    "sugarcane['nitrogeno_0-30cm_mean'] = (sugarcane['nitrogen_0-5cm_mean'] + sugarcane['nitrogen_5-15cm_mean'] + sugarcane['nitrogen_15-30cm_mean'])/3\n",
    "# pH\n",
    "sugarcane['ph_0-30cm_mean'] = (sugarcane['phh2o_0-5cm_mean'] + sugarcane['phh2o_5-15cm_mean'] + sugarcane['phh2o_15-30cm_mean'])/3\n",
    "# Arena\n",
    "sugarcane['arena_0-30cm_mean'] = (sugarcane['sand_0-5cm_mean'] + sugarcane['sand_5-15cm_mean'] + sugarcane['sand_15-30cm_mean'])/3\n",
    "# Limo\n",
    "sugarcane['limo_0-30cm_mean'] = (sugarcane['silt_0-5cm_mean'] + sugarcane['silt_5-15cm_mean'] + sugarcane['silt_15-30cm_mean'])/3\n",
    "# Carbono orgánico\n",
    "sugarcane['carbono_organico_0-30cm_mean'] = (sugarcane['soc_0-5cm_mean'] + sugarcane['soc_5-15cm_mean'] + sugarcane['soc_15-30cm_mean'])/3\n",
    "# Renombrando columnas\n",
    "sugarcane = sugarcane.rename({'MOD13Q1_006__250m_16_days_NDVI':'NDVI','CLRSKY_SFC_PAR_TOT':'PAR'}, axis=1)\n",
    "sugarcane_average = sugarcane[['year', 'month','longitude',\n",
    "       'latitude','ingenio', 'hacienda', 'area', 'variedad', 'edad', 'corte',\n",
    "       'lote_comercial', 'lote_semillero', 'RSD', 'LSD',  'incidencia_RSD', 'incidencia_LSD', 'prevalencia_RSD',\n",
    "       'prevalencia_LSD',\n",
    "       'NDVI', 'RH2M', 'PRECTOTCORR',\n",
    "       'WS2M', 'PAR', 'T2M', 'T2M_MAX', 'T2M_MIN', \n",
    "       'densidad_aparente_0-30cm_mean',\n",
    "       'intercambio_catiónico_0-30cm_mean', 'fraccion_gruesa_0-30cm_mean',\n",
    "       'arcillas_0-30cm_mean', 'nitrogeno_0-30cm_mean', 'ph_0-30cm_mean',\n",
    "       'arena_0-30cm_mean', 'limo_0-30cm_mean',\n",
    "       'carbono_organico_0-30cm_mean']]\n",
    "sugarcane_average = sugarcane_average.round(2)"
   ]
  },
  {
   "cell_type": "code",
   "execution_count": null,
   "metadata": {},
   "outputs": [],
   "source": [
    "sugarcane_average.to_csv('sugarcane_base.csv', index = False)"
   ]
  },
  {
   "cell_type": "code",
   "execution_count": 4,
   "metadata": {},
   "outputs": [],
   "source": [
    "# exp_clu101 = setup(sugarcane_average, normalize = True, silent=True,session_id = 123)"
   ]
  },
  {
   "cell_type": "code",
   "execution_count": 5,
   "metadata": {},
   "outputs": [],
   "source": [
    "# kmeans = create_model('kmeans')"
   ]
  },
  {
   "cell_type": "code",
   "execution_count": 6,
   "metadata": {},
   "outputs": [],
   "source": [
    "# plot_model(kmeans, plot='elbow')"
   ]
  },
  {
   "cell_type": "code",
   "execution_count": 7,
   "metadata": {},
   "outputs": [],
   "source": [
    "# kmeans = create_model('kmeans', num_clusters=5)"
   ]
  },
  {
   "cell_type": "markdown",
   "metadata": {},
   "source": [
    "## DISEASES"
   ]
  },
  {
   "cell_type": "code",
   "execution_count": 8,
   "metadata": {},
   "outputs": [
    {
     "data": {
      "text/html": [
       "<div>\n",
       "<style scoped>\n",
       "    .dataframe tbody tr th:only-of-type {\n",
       "        vertical-align: middle;\n",
       "    }\n",
       "\n",
       "    .dataframe tbody tr th {\n",
       "        vertical-align: top;\n",
       "    }\n",
       "\n",
       "    .dataframe thead th {\n",
       "        text-align: right;\n",
       "    }\n",
       "</style>\n",
       "<table border=\"1\" class=\"dataframe\">\n",
       "  <thead>\n",
       "    <tr style=\"text-align: right;\">\n",
       "      <th></th>\n",
       "      <th>longitude</th>\n",
       "      <th>latitude</th>\n",
       "      <th>RSD</th>\n",
       "      <th>LSD</th>\n",
       "    </tr>\n",
       "  </thead>\n",
       "  <tbody>\n",
       "    <tr>\n",
       "      <th>0</th>\n",
       "      <td>-76.38</td>\n",
       "      <td>3.24</td>\n",
       "      <td>0.0</td>\n",
       "      <td>0.0</td>\n",
       "    </tr>\n",
       "    <tr>\n",
       "      <th>1</th>\n",
       "      <td>-76.37</td>\n",
       "      <td>3.56</td>\n",
       "      <td>0.0</td>\n",
       "      <td>0.0</td>\n",
       "    </tr>\n",
       "    <tr>\n",
       "      <th>2</th>\n",
       "      <td>-76.48</td>\n",
       "      <td>3.34</td>\n",
       "      <td>0.0</td>\n",
       "      <td>0.0</td>\n",
       "    </tr>\n",
       "    <tr>\n",
       "      <th>3</th>\n",
       "      <td>-76.31</td>\n",
       "      <td>3.40</td>\n",
       "      <td>0.0</td>\n",
       "      <td>0.0</td>\n",
       "    </tr>\n",
       "    <tr>\n",
       "      <th>4</th>\n",
       "      <td>-76.30</td>\n",
       "      <td>3.26</td>\n",
       "      <td>0.0</td>\n",
       "      <td>0.0</td>\n",
       "    </tr>\n",
       "    <tr>\n",
       "      <th>...</th>\n",
       "      <td>...</td>\n",
       "      <td>...</td>\n",
       "      <td>...</td>\n",
       "      <td>...</td>\n",
       "    </tr>\n",
       "    <tr>\n",
       "      <th>20800</th>\n",
       "      <td>-76.53</td>\n",
       "      <td>3.17</td>\n",
       "      <td>0.0</td>\n",
       "      <td>0.0</td>\n",
       "    </tr>\n",
       "    <tr>\n",
       "      <th>20801</th>\n",
       "      <td>-76.29</td>\n",
       "      <td>3.37</td>\n",
       "      <td>0.0</td>\n",
       "      <td>0.0</td>\n",
       "    </tr>\n",
       "    <tr>\n",
       "      <th>20802</th>\n",
       "      <td>-76.29</td>\n",
       "      <td>3.37</td>\n",
       "      <td>0.0</td>\n",
       "      <td>0.0</td>\n",
       "    </tr>\n",
       "    <tr>\n",
       "      <th>20803</th>\n",
       "      <td>-76.33</td>\n",
       "      <td>3.28</td>\n",
       "      <td>0.0</td>\n",
       "      <td>0.0</td>\n",
       "    </tr>\n",
       "    <tr>\n",
       "      <th>20804</th>\n",
       "      <td>-76.30</td>\n",
       "      <td>3.37</td>\n",
       "      <td>0.0</td>\n",
       "      <td>0.0</td>\n",
       "    </tr>\n",
       "  </tbody>\n",
       "</table>\n",
       "<p>20805 rows × 4 columns</p>\n",
       "</div>"
      ],
      "text/plain": [
       "       longitude  latitude  RSD  LSD\n",
       "0         -76.38      3.24  0.0  0.0\n",
       "1         -76.37      3.56  0.0  0.0\n",
       "2         -76.48      3.34  0.0  0.0\n",
       "3         -76.31      3.40  0.0  0.0\n",
       "4         -76.30      3.26  0.0  0.0\n",
       "...          ...       ...  ...  ...\n",
       "20800     -76.53      3.17  0.0  0.0\n",
       "20801     -76.29      3.37  0.0  0.0\n",
       "20802     -76.29      3.37  0.0  0.0\n",
       "20803     -76.33      3.28  0.0  0.0\n",
       "20804     -76.30      3.37  0.0  0.0\n",
       "\n",
       "[20805 rows x 4 columns]"
      ]
     },
     "execution_count": 8,
     "metadata": {},
     "output_type": "execute_result"
    }
   ],
   "source": [
    "disease = sugarcane[['longitude', 'latitude', 'RSD', 'LSD']]\n",
    "disease"
   ]
  },
  {
   "cell_type": "code",
   "execution_count": 9,
   "metadata": {},
   "outputs": [],
   "source": [
    "# exp_clu101 = setup(disease, normalize = True, ,silent=True,session_id = 123)"
   ]
  },
  {
   "cell_type": "code",
   "execution_count": 10,
   "metadata": {},
   "outputs": [],
   "source": [
    "# kmeans = create_model('kmeans')"
   ]
  },
  {
   "cell_type": "code",
   "execution_count": 11,
   "metadata": {},
   "outputs": [],
   "source": [
    "# plot_model(kmeans, plot='elbow')"
   ]
  },
  {
   "cell_type": "code",
   "execution_count": 12,
   "metadata": {},
   "outputs": [],
   "source": [
    "# plot_model(kmeans, plot='silhouette')"
   ]
  },
  {
   "cell_type": "code",
   "execution_count": 13,
   "metadata": {},
   "outputs": [],
   "source": [
    "# kmeans1 = create_model('kmeans', num_clusters=5)"
   ]
  },
  {
   "cell_type": "code",
   "execution_count": 14,
   "metadata": {},
   "outputs": [],
   "source": [
    "# plot_model(kmeans1, plot='elbow')"
   ]
  },
  {
   "cell_type": "code",
   "execution_count": 15,
   "metadata": {},
   "outputs": [],
   "source": [
    "# plot_model(kmeans1, plot='silhouette')"
   ]
  },
  {
   "cell_type": "code",
   "execution_count": 16,
   "metadata": {},
   "outputs": [],
   "source": [
    "#kmeans2 = create_model('kmeans', num_clusters=6)"
   ]
  },
  {
   "cell_type": "code",
   "execution_count": 17,
   "metadata": {},
   "outputs": [],
   "source": [
    "# plot_model(kmeans2, plot='elbow')"
   ]
  },
  {
   "cell_type": "markdown",
   "metadata": {},
   "source": [
    "# MEJOR MODELO"
   ]
  },
  {
   "cell_type": "code",
   "execution_count": 18,
   "metadata": {},
   "outputs": [
    {
     "data": {
      "text/html": [
       "<style  type=\"text/css\" >\n",
       "</style><table id=\"T_a452f6de_769e_11ec_83c8_0c7a15a2550d\" ><thead>    <tr>        <th class=\"blank level0\" ></th>        <th class=\"col_heading level0 col0\" >Description</th>        <th class=\"col_heading level0 col1\" >Value</th>    </tr></thead><tbody>\n",
       "                <tr>\n",
       "                        <th id=\"T_a452f6de_769e_11ec_83c8_0c7a15a2550dlevel0_row0\" class=\"row_heading level0 row0\" >0</th>\n",
       "                        <td id=\"T_a452f6de_769e_11ec_83c8_0c7a15a2550drow0_col0\" class=\"data row0 col0\" >session_id</td>\n",
       "                        <td id=\"T_a452f6de_769e_11ec_83c8_0c7a15a2550drow0_col1\" class=\"data row0 col1\" >123</td>\n",
       "            </tr>\n",
       "            <tr>\n",
       "                        <th id=\"T_a452f6de_769e_11ec_83c8_0c7a15a2550dlevel0_row1\" class=\"row_heading level0 row1\" >1</th>\n",
       "                        <td id=\"T_a452f6de_769e_11ec_83c8_0c7a15a2550drow1_col0\" class=\"data row1 col0\" >Original Data</td>\n",
       "                        <td id=\"T_a452f6de_769e_11ec_83c8_0c7a15a2550drow1_col1\" class=\"data row1 col1\" >(20805, 4)</td>\n",
       "            </tr>\n",
       "            <tr>\n",
       "                        <th id=\"T_a452f6de_769e_11ec_83c8_0c7a15a2550dlevel0_row2\" class=\"row_heading level0 row2\" >2</th>\n",
       "                        <td id=\"T_a452f6de_769e_11ec_83c8_0c7a15a2550drow2_col0\" class=\"data row2 col0\" >Missing Values</td>\n",
       "                        <td id=\"T_a452f6de_769e_11ec_83c8_0c7a15a2550drow2_col1\" class=\"data row2 col1\" >False</td>\n",
       "            </tr>\n",
       "            <tr>\n",
       "                        <th id=\"T_a452f6de_769e_11ec_83c8_0c7a15a2550dlevel0_row3\" class=\"row_heading level0 row3\" >3</th>\n",
       "                        <td id=\"T_a452f6de_769e_11ec_83c8_0c7a15a2550drow3_col0\" class=\"data row3 col0\" >Numeric Features</td>\n",
       "                        <td id=\"T_a452f6de_769e_11ec_83c8_0c7a15a2550drow3_col1\" class=\"data row3 col1\" >4</td>\n",
       "            </tr>\n",
       "            <tr>\n",
       "                        <th id=\"T_a452f6de_769e_11ec_83c8_0c7a15a2550dlevel0_row4\" class=\"row_heading level0 row4\" >4</th>\n",
       "                        <td id=\"T_a452f6de_769e_11ec_83c8_0c7a15a2550drow4_col0\" class=\"data row4 col0\" >Categorical Features</td>\n",
       "                        <td id=\"T_a452f6de_769e_11ec_83c8_0c7a15a2550drow4_col1\" class=\"data row4 col1\" >0</td>\n",
       "            </tr>\n",
       "            <tr>\n",
       "                        <th id=\"T_a452f6de_769e_11ec_83c8_0c7a15a2550dlevel0_row5\" class=\"row_heading level0 row5\" >5</th>\n",
       "                        <td id=\"T_a452f6de_769e_11ec_83c8_0c7a15a2550drow5_col0\" class=\"data row5 col0\" >Ordinal Features</td>\n",
       "                        <td id=\"T_a452f6de_769e_11ec_83c8_0c7a15a2550drow5_col1\" class=\"data row5 col1\" >False</td>\n",
       "            </tr>\n",
       "            <tr>\n",
       "                        <th id=\"T_a452f6de_769e_11ec_83c8_0c7a15a2550dlevel0_row6\" class=\"row_heading level0 row6\" >6</th>\n",
       "                        <td id=\"T_a452f6de_769e_11ec_83c8_0c7a15a2550drow6_col0\" class=\"data row6 col0\" >High Cardinality Features</td>\n",
       "                        <td id=\"T_a452f6de_769e_11ec_83c8_0c7a15a2550drow6_col1\" class=\"data row6 col1\" >False</td>\n",
       "            </tr>\n",
       "            <tr>\n",
       "                        <th id=\"T_a452f6de_769e_11ec_83c8_0c7a15a2550dlevel0_row7\" class=\"row_heading level0 row7\" >7</th>\n",
       "                        <td id=\"T_a452f6de_769e_11ec_83c8_0c7a15a2550drow7_col0\" class=\"data row7 col0\" >High Cardinality Method</td>\n",
       "                        <td id=\"T_a452f6de_769e_11ec_83c8_0c7a15a2550drow7_col1\" class=\"data row7 col1\" >None</td>\n",
       "            </tr>\n",
       "            <tr>\n",
       "                        <th id=\"T_a452f6de_769e_11ec_83c8_0c7a15a2550dlevel0_row8\" class=\"row_heading level0 row8\" >8</th>\n",
       "                        <td id=\"T_a452f6de_769e_11ec_83c8_0c7a15a2550drow8_col0\" class=\"data row8 col0\" >Transformed Data</td>\n",
       "                        <td id=\"T_a452f6de_769e_11ec_83c8_0c7a15a2550drow8_col1\" class=\"data row8 col1\" >(20805, 4)</td>\n",
       "            </tr>\n",
       "            <tr>\n",
       "                        <th id=\"T_a452f6de_769e_11ec_83c8_0c7a15a2550dlevel0_row9\" class=\"row_heading level0 row9\" >9</th>\n",
       "                        <td id=\"T_a452f6de_769e_11ec_83c8_0c7a15a2550drow9_col0\" class=\"data row9 col0\" >CPU Jobs</td>\n",
       "                        <td id=\"T_a452f6de_769e_11ec_83c8_0c7a15a2550drow9_col1\" class=\"data row9 col1\" >-1</td>\n",
       "            </tr>\n",
       "            <tr>\n",
       "                        <th id=\"T_a452f6de_769e_11ec_83c8_0c7a15a2550dlevel0_row10\" class=\"row_heading level0 row10\" >10</th>\n",
       "                        <td id=\"T_a452f6de_769e_11ec_83c8_0c7a15a2550drow10_col0\" class=\"data row10 col0\" >Use GPU</td>\n",
       "                        <td id=\"T_a452f6de_769e_11ec_83c8_0c7a15a2550drow10_col1\" class=\"data row10 col1\" >False</td>\n",
       "            </tr>\n",
       "            <tr>\n",
       "                        <th id=\"T_a452f6de_769e_11ec_83c8_0c7a15a2550dlevel0_row11\" class=\"row_heading level0 row11\" >11</th>\n",
       "                        <td id=\"T_a452f6de_769e_11ec_83c8_0c7a15a2550drow11_col0\" class=\"data row11 col0\" >Log Experiment</td>\n",
       "                        <td id=\"T_a452f6de_769e_11ec_83c8_0c7a15a2550drow11_col1\" class=\"data row11 col1\" >False</td>\n",
       "            </tr>\n",
       "            <tr>\n",
       "                        <th id=\"T_a452f6de_769e_11ec_83c8_0c7a15a2550dlevel0_row12\" class=\"row_heading level0 row12\" >12</th>\n",
       "                        <td id=\"T_a452f6de_769e_11ec_83c8_0c7a15a2550drow12_col0\" class=\"data row12 col0\" >Experiment Name</td>\n",
       "                        <td id=\"T_a452f6de_769e_11ec_83c8_0c7a15a2550drow12_col1\" class=\"data row12 col1\" >cluster-default-name</td>\n",
       "            </tr>\n",
       "            <tr>\n",
       "                        <th id=\"T_a452f6de_769e_11ec_83c8_0c7a15a2550dlevel0_row13\" class=\"row_heading level0 row13\" >13</th>\n",
       "                        <td id=\"T_a452f6de_769e_11ec_83c8_0c7a15a2550drow13_col0\" class=\"data row13 col0\" >USI</td>\n",
       "                        <td id=\"T_a452f6de_769e_11ec_83c8_0c7a15a2550drow13_col1\" class=\"data row13 col1\" >c7b5</td>\n",
       "            </tr>\n",
       "            <tr>\n",
       "                        <th id=\"T_a452f6de_769e_11ec_83c8_0c7a15a2550dlevel0_row14\" class=\"row_heading level0 row14\" >14</th>\n",
       "                        <td id=\"T_a452f6de_769e_11ec_83c8_0c7a15a2550drow14_col0\" class=\"data row14 col0\" >Imputation Type</td>\n",
       "                        <td id=\"T_a452f6de_769e_11ec_83c8_0c7a15a2550drow14_col1\" class=\"data row14 col1\" >simple</td>\n",
       "            </tr>\n",
       "            <tr>\n",
       "                        <th id=\"T_a452f6de_769e_11ec_83c8_0c7a15a2550dlevel0_row15\" class=\"row_heading level0 row15\" >15</th>\n",
       "                        <td id=\"T_a452f6de_769e_11ec_83c8_0c7a15a2550drow15_col0\" class=\"data row15 col0\" >Iterative Imputation Iteration</td>\n",
       "                        <td id=\"T_a452f6de_769e_11ec_83c8_0c7a15a2550drow15_col1\" class=\"data row15 col1\" >None</td>\n",
       "            </tr>\n",
       "            <tr>\n",
       "                        <th id=\"T_a452f6de_769e_11ec_83c8_0c7a15a2550dlevel0_row16\" class=\"row_heading level0 row16\" >16</th>\n",
       "                        <td id=\"T_a452f6de_769e_11ec_83c8_0c7a15a2550drow16_col0\" class=\"data row16 col0\" >Numeric Imputer</td>\n",
       "                        <td id=\"T_a452f6de_769e_11ec_83c8_0c7a15a2550drow16_col1\" class=\"data row16 col1\" >mean</td>\n",
       "            </tr>\n",
       "            <tr>\n",
       "                        <th id=\"T_a452f6de_769e_11ec_83c8_0c7a15a2550dlevel0_row17\" class=\"row_heading level0 row17\" >17</th>\n",
       "                        <td id=\"T_a452f6de_769e_11ec_83c8_0c7a15a2550drow17_col0\" class=\"data row17 col0\" >Iterative Imputation Numeric Model</td>\n",
       "                        <td id=\"T_a452f6de_769e_11ec_83c8_0c7a15a2550drow17_col1\" class=\"data row17 col1\" >None</td>\n",
       "            </tr>\n",
       "            <tr>\n",
       "                        <th id=\"T_a452f6de_769e_11ec_83c8_0c7a15a2550dlevel0_row18\" class=\"row_heading level0 row18\" >18</th>\n",
       "                        <td id=\"T_a452f6de_769e_11ec_83c8_0c7a15a2550drow18_col0\" class=\"data row18 col0\" >Categorical Imputer</td>\n",
       "                        <td id=\"T_a452f6de_769e_11ec_83c8_0c7a15a2550drow18_col1\" class=\"data row18 col1\" >mode</td>\n",
       "            </tr>\n",
       "            <tr>\n",
       "                        <th id=\"T_a452f6de_769e_11ec_83c8_0c7a15a2550dlevel0_row19\" class=\"row_heading level0 row19\" >19</th>\n",
       "                        <td id=\"T_a452f6de_769e_11ec_83c8_0c7a15a2550drow19_col0\" class=\"data row19 col0\" >Iterative Imputation Categorical Model</td>\n",
       "                        <td id=\"T_a452f6de_769e_11ec_83c8_0c7a15a2550drow19_col1\" class=\"data row19 col1\" >None</td>\n",
       "            </tr>\n",
       "            <tr>\n",
       "                        <th id=\"T_a452f6de_769e_11ec_83c8_0c7a15a2550dlevel0_row20\" class=\"row_heading level0 row20\" >20</th>\n",
       "                        <td id=\"T_a452f6de_769e_11ec_83c8_0c7a15a2550drow20_col0\" class=\"data row20 col0\" >Unknown Categoricals Handling</td>\n",
       "                        <td id=\"T_a452f6de_769e_11ec_83c8_0c7a15a2550drow20_col1\" class=\"data row20 col1\" >least_frequent</td>\n",
       "            </tr>\n",
       "            <tr>\n",
       "                        <th id=\"T_a452f6de_769e_11ec_83c8_0c7a15a2550dlevel0_row21\" class=\"row_heading level0 row21\" >21</th>\n",
       "                        <td id=\"T_a452f6de_769e_11ec_83c8_0c7a15a2550drow21_col0\" class=\"data row21 col0\" >Normalize</td>\n",
       "                        <td id=\"T_a452f6de_769e_11ec_83c8_0c7a15a2550drow21_col1\" class=\"data row21 col1\" >False</td>\n",
       "            </tr>\n",
       "            <tr>\n",
       "                        <th id=\"T_a452f6de_769e_11ec_83c8_0c7a15a2550dlevel0_row22\" class=\"row_heading level0 row22\" >22</th>\n",
       "                        <td id=\"T_a452f6de_769e_11ec_83c8_0c7a15a2550drow22_col0\" class=\"data row22 col0\" >Normalize Method</td>\n",
       "                        <td id=\"T_a452f6de_769e_11ec_83c8_0c7a15a2550drow22_col1\" class=\"data row22 col1\" >None</td>\n",
       "            </tr>\n",
       "            <tr>\n",
       "                        <th id=\"T_a452f6de_769e_11ec_83c8_0c7a15a2550dlevel0_row23\" class=\"row_heading level0 row23\" >23</th>\n",
       "                        <td id=\"T_a452f6de_769e_11ec_83c8_0c7a15a2550drow23_col0\" class=\"data row23 col0\" >Transformation</td>\n",
       "                        <td id=\"T_a452f6de_769e_11ec_83c8_0c7a15a2550drow23_col1\" class=\"data row23 col1\" >False</td>\n",
       "            </tr>\n",
       "            <tr>\n",
       "                        <th id=\"T_a452f6de_769e_11ec_83c8_0c7a15a2550dlevel0_row24\" class=\"row_heading level0 row24\" >24</th>\n",
       "                        <td id=\"T_a452f6de_769e_11ec_83c8_0c7a15a2550drow24_col0\" class=\"data row24 col0\" >Transformation Method</td>\n",
       "                        <td id=\"T_a452f6de_769e_11ec_83c8_0c7a15a2550drow24_col1\" class=\"data row24 col1\" >None</td>\n",
       "            </tr>\n",
       "            <tr>\n",
       "                        <th id=\"T_a452f6de_769e_11ec_83c8_0c7a15a2550dlevel0_row25\" class=\"row_heading level0 row25\" >25</th>\n",
       "                        <td id=\"T_a452f6de_769e_11ec_83c8_0c7a15a2550drow25_col0\" class=\"data row25 col0\" >PCA</td>\n",
       "                        <td id=\"T_a452f6de_769e_11ec_83c8_0c7a15a2550drow25_col1\" class=\"data row25 col1\" >False</td>\n",
       "            </tr>\n",
       "            <tr>\n",
       "                        <th id=\"T_a452f6de_769e_11ec_83c8_0c7a15a2550dlevel0_row26\" class=\"row_heading level0 row26\" >26</th>\n",
       "                        <td id=\"T_a452f6de_769e_11ec_83c8_0c7a15a2550drow26_col0\" class=\"data row26 col0\" >PCA Method</td>\n",
       "                        <td id=\"T_a452f6de_769e_11ec_83c8_0c7a15a2550drow26_col1\" class=\"data row26 col1\" >None</td>\n",
       "            </tr>\n",
       "            <tr>\n",
       "                        <th id=\"T_a452f6de_769e_11ec_83c8_0c7a15a2550dlevel0_row27\" class=\"row_heading level0 row27\" >27</th>\n",
       "                        <td id=\"T_a452f6de_769e_11ec_83c8_0c7a15a2550drow27_col0\" class=\"data row27 col0\" >PCA Components</td>\n",
       "                        <td id=\"T_a452f6de_769e_11ec_83c8_0c7a15a2550drow27_col1\" class=\"data row27 col1\" >None</td>\n",
       "            </tr>\n",
       "            <tr>\n",
       "                        <th id=\"T_a452f6de_769e_11ec_83c8_0c7a15a2550dlevel0_row28\" class=\"row_heading level0 row28\" >28</th>\n",
       "                        <td id=\"T_a452f6de_769e_11ec_83c8_0c7a15a2550drow28_col0\" class=\"data row28 col0\" >Ignore Low Variance</td>\n",
       "                        <td id=\"T_a452f6de_769e_11ec_83c8_0c7a15a2550drow28_col1\" class=\"data row28 col1\" >False</td>\n",
       "            </tr>\n",
       "            <tr>\n",
       "                        <th id=\"T_a452f6de_769e_11ec_83c8_0c7a15a2550dlevel0_row29\" class=\"row_heading level0 row29\" >29</th>\n",
       "                        <td id=\"T_a452f6de_769e_11ec_83c8_0c7a15a2550drow29_col0\" class=\"data row29 col0\" >Combine Rare Levels</td>\n",
       "                        <td id=\"T_a452f6de_769e_11ec_83c8_0c7a15a2550drow29_col1\" class=\"data row29 col1\" >False</td>\n",
       "            </tr>\n",
       "            <tr>\n",
       "                        <th id=\"T_a452f6de_769e_11ec_83c8_0c7a15a2550dlevel0_row30\" class=\"row_heading level0 row30\" >30</th>\n",
       "                        <td id=\"T_a452f6de_769e_11ec_83c8_0c7a15a2550drow30_col0\" class=\"data row30 col0\" >Rare Level Threshold</td>\n",
       "                        <td id=\"T_a452f6de_769e_11ec_83c8_0c7a15a2550drow30_col1\" class=\"data row30 col1\" >None</td>\n",
       "            </tr>\n",
       "            <tr>\n",
       "                        <th id=\"T_a452f6de_769e_11ec_83c8_0c7a15a2550dlevel0_row31\" class=\"row_heading level0 row31\" >31</th>\n",
       "                        <td id=\"T_a452f6de_769e_11ec_83c8_0c7a15a2550drow31_col0\" class=\"data row31 col0\" >Numeric Binning</td>\n",
       "                        <td id=\"T_a452f6de_769e_11ec_83c8_0c7a15a2550drow31_col1\" class=\"data row31 col1\" >False</td>\n",
       "            </tr>\n",
       "            <tr>\n",
       "                        <th id=\"T_a452f6de_769e_11ec_83c8_0c7a15a2550dlevel0_row32\" class=\"row_heading level0 row32\" >32</th>\n",
       "                        <td id=\"T_a452f6de_769e_11ec_83c8_0c7a15a2550drow32_col0\" class=\"data row32 col0\" >Remove Outliers</td>\n",
       "                        <td id=\"T_a452f6de_769e_11ec_83c8_0c7a15a2550drow32_col1\" class=\"data row32 col1\" >False</td>\n",
       "            </tr>\n",
       "            <tr>\n",
       "                        <th id=\"T_a452f6de_769e_11ec_83c8_0c7a15a2550dlevel0_row33\" class=\"row_heading level0 row33\" >33</th>\n",
       "                        <td id=\"T_a452f6de_769e_11ec_83c8_0c7a15a2550drow33_col0\" class=\"data row33 col0\" >Outliers Threshold</td>\n",
       "                        <td id=\"T_a452f6de_769e_11ec_83c8_0c7a15a2550drow33_col1\" class=\"data row33 col1\" >None</td>\n",
       "            </tr>\n",
       "            <tr>\n",
       "                        <th id=\"T_a452f6de_769e_11ec_83c8_0c7a15a2550dlevel0_row34\" class=\"row_heading level0 row34\" >34</th>\n",
       "                        <td id=\"T_a452f6de_769e_11ec_83c8_0c7a15a2550drow34_col0\" class=\"data row34 col0\" >Remove Multicollinearity</td>\n",
       "                        <td id=\"T_a452f6de_769e_11ec_83c8_0c7a15a2550drow34_col1\" class=\"data row34 col1\" >False</td>\n",
       "            </tr>\n",
       "            <tr>\n",
       "                        <th id=\"T_a452f6de_769e_11ec_83c8_0c7a15a2550dlevel0_row35\" class=\"row_heading level0 row35\" >35</th>\n",
       "                        <td id=\"T_a452f6de_769e_11ec_83c8_0c7a15a2550drow35_col0\" class=\"data row35 col0\" >Multicollinearity Threshold</td>\n",
       "                        <td id=\"T_a452f6de_769e_11ec_83c8_0c7a15a2550drow35_col1\" class=\"data row35 col1\" >None</td>\n",
       "            </tr>\n",
       "            <tr>\n",
       "                        <th id=\"T_a452f6de_769e_11ec_83c8_0c7a15a2550dlevel0_row36\" class=\"row_heading level0 row36\" >36</th>\n",
       "                        <td id=\"T_a452f6de_769e_11ec_83c8_0c7a15a2550drow36_col0\" class=\"data row36 col0\" >Remove Perfect Collinearity</td>\n",
       "                        <td id=\"T_a452f6de_769e_11ec_83c8_0c7a15a2550drow36_col1\" class=\"data row36 col1\" >False</td>\n",
       "            </tr>\n",
       "            <tr>\n",
       "                        <th id=\"T_a452f6de_769e_11ec_83c8_0c7a15a2550dlevel0_row37\" class=\"row_heading level0 row37\" >37</th>\n",
       "                        <td id=\"T_a452f6de_769e_11ec_83c8_0c7a15a2550drow37_col0\" class=\"data row37 col0\" >Clustering</td>\n",
       "                        <td id=\"T_a452f6de_769e_11ec_83c8_0c7a15a2550drow37_col1\" class=\"data row37 col1\" >False</td>\n",
       "            </tr>\n",
       "            <tr>\n",
       "                        <th id=\"T_a452f6de_769e_11ec_83c8_0c7a15a2550dlevel0_row38\" class=\"row_heading level0 row38\" >38</th>\n",
       "                        <td id=\"T_a452f6de_769e_11ec_83c8_0c7a15a2550drow38_col0\" class=\"data row38 col0\" >Clustering Iteration</td>\n",
       "                        <td id=\"T_a452f6de_769e_11ec_83c8_0c7a15a2550drow38_col1\" class=\"data row38 col1\" >None</td>\n",
       "            </tr>\n",
       "            <tr>\n",
       "                        <th id=\"T_a452f6de_769e_11ec_83c8_0c7a15a2550dlevel0_row39\" class=\"row_heading level0 row39\" >39</th>\n",
       "                        <td id=\"T_a452f6de_769e_11ec_83c8_0c7a15a2550drow39_col0\" class=\"data row39 col0\" >Polynomial Features</td>\n",
       "                        <td id=\"T_a452f6de_769e_11ec_83c8_0c7a15a2550drow39_col1\" class=\"data row39 col1\" >False</td>\n",
       "            </tr>\n",
       "            <tr>\n",
       "                        <th id=\"T_a452f6de_769e_11ec_83c8_0c7a15a2550dlevel0_row40\" class=\"row_heading level0 row40\" >40</th>\n",
       "                        <td id=\"T_a452f6de_769e_11ec_83c8_0c7a15a2550drow40_col0\" class=\"data row40 col0\" >Polynomial Degree</td>\n",
       "                        <td id=\"T_a452f6de_769e_11ec_83c8_0c7a15a2550drow40_col1\" class=\"data row40 col1\" >None</td>\n",
       "            </tr>\n",
       "            <tr>\n",
       "                        <th id=\"T_a452f6de_769e_11ec_83c8_0c7a15a2550dlevel0_row41\" class=\"row_heading level0 row41\" >41</th>\n",
       "                        <td id=\"T_a452f6de_769e_11ec_83c8_0c7a15a2550drow41_col0\" class=\"data row41 col0\" >Trignometry Features</td>\n",
       "                        <td id=\"T_a452f6de_769e_11ec_83c8_0c7a15a2550drow41_col1\" class=\"data row41 col1\" >False</td>\n",
       "            </tr>\n",
       "            <tr>\n",
       "                        <th id=\"T_a452f6de_769e_11ec_83c8_0c7a15a2550dlevel0_row42\" class=\"row_heading level0 row42\" >42</th>\n",
       "                        <td id=\"T_a452f6de_769e_11ec_83c8_0c7a15a2550drow42_col0\" class=\"data row42 col0\" >Polynomial Threshold</td>\n",
       "                        <td id=\"T_a452f6de_769e_11ec_83c8_0c7a15a2550drow42_col1\" class=\"data row42 col1\" >None</td>\n",
       "            </tr>\n",
       "            <tr>\n",
       "                        <th id=\"T_a452f6de_769e_11ec_83c8_0c7a15a2550dlevel0_row43\" class=\"row_heading level0 row43\" >43</th>\n",
       "                        <td id=\"T_a452f6de_769e_11ec_83c8_0c7a15a2550drow43_col0\" class=\"data row43 col0\" >Group Features</td>\n",
       "                        <td id=\"T_a452f6de_769e_11ec_83c8_0c7a15a2550drow43_col1\" class=\"data row43 col1\" >False</td>\n",
       "            </tr>\n",
       "            <tr>\n",
       "                        <th id=\"T_a452f6de_769e_11ec_83c8_0c7a15a2550dlevel0_row44\" class=\"row_heading level0 row44\" >44</th>\n",
       "                        <td id=\"T_a452f6de_769e_11ec_83c8_0c7a15a2550drow44_col0\" class=\"data row44 col0\" >Feature Selection</td>\n",
       "                        <td id=\"T_a452f6de_769e_11ec_83c8_0c7a15a2550drow44_col1\" class=\"data row44 col1\" >False</td>\n",
       "            </tr>\n",
       "            <tr>\n",
       "                        <th id=\"T_a452f6de_769e_11ec_83c8_0c7a15a2550dlevel0_row45\" class=\"row_heading level0 row45\" >45</th>\n",
       "                        <td id=\"T_a452f6de_769e_11ec_83c8_0c7a15a2550drow45_col0\" class=\"data row45 col0\" >Feature Selection Method</td>\n",
       "                        <td id=\"T_a452f6de_769e_11ec_83c8_0c7a15a2550drow45_col1\" class=\"data row45 col1\" >classic</td>\n",
       "            </tr>\n",
       "            <tr>\n",
       "                        <th id=\"T_a452f6de_769e_11ec_83c8_0c7a15a2550dlevel0_row46\" class=\"row_heading level0 row46\" >46</th>\n",
       "                        <td id=\"T_a452f6de_769e_11ec_83c8_0c7a15a2550drow46_col0\" class=\"data row46 col0\" >Features Selection Threshold</td>\n",
       "                        <td id=\"T_a452f6de_769e_11ec_83c8_0c7a15a2550drow46_col1\" class=\"data row46 col1\" >None</td>\n",
       "            </tr>\n",
       "            <tr>\n",
       "                        <th id=\"T_a452f6de_769e_11ec_83c8_0c7a15a2550dlevel0_row47\" class=\"row_heading level0 row47\" >47</th>\n",
       "                        <td id=\"T_a452f6de_769e_11ec_83c8_0c7a15a2550drow47_col0\" class=\"data row47 col0\" >Feature Interaction</td>\n",
       "                        <td id=\"T_a452f6de_769e_11ec_83c8_0c7a15a2550drow47_col1\" class=\"data row47 col1\" >False</td>\n",
       "            </tr>\n",
       "            <tr>\n",
       "                        <th id=\"T_a452f6de_769e_11ec_83c8_0c7a15a2550dlevel0_row48\" class=\"row_heading level0 row48\" >48</th>\n",
       "                        <td id=\"T_a452f6de_769e_11ec_83c8_0c7a15a2550drow48_col0\" class=\"data row48 col0\" >Feature Ratio</td>\n",
       "                        <td id=\"T_a452f6de_769e_11ec_83c8_0c7a15a2550drow48_col1\" class=\"data row48 col1\" >False</td>\n",
       "            </tr>\n",
       "            <tr>\n",
       "                        <th id=\"T_a452f6de_769e_11ec_83c8_0c7a15a2550dlevel0_row49\" class=\"row_heading level0 row49\" >49</th>\n",
       "                        <td id=\"T_a452f6de_769e_11ec_83c8_0c7a15a2550drow49_col0\" class=\"data row49 col0\" >Interaction Threshold</td>\n",
       "                        <td id=\"T_a452f6de_769e_11ec_83c8_0c7a15a2550drow49_col1\" class=\"data row49 col1\" >None</td>\n",
       "            </tr>\n",
       "    </tbody></table>"
      ],
      "text/plain": [
       "<pandas.io.formats.style.Styler at 0x22510abb4e0>"
      ]
     },
     "metadata": {},
     "output_type": "display_data"
    }
   ],
   "source": [
    "diseases_clusters = setup(disease, normalize = False, silent=True,session_id = 123)"
   ]
  },
  {
   "cell_type": "code",
   "execution_count": 19,
   "metadata": {},
   "outputs": [
    {
     "data": {
      "text/html": [
       "<div>\n",
       "<style scoped>\n",
       "    .dataframe tbody tr th:only-of-type {\n",
       "        vertical-align: middle;\n",
       "    }\n",
       "\n",
       "    .dataframe tbody tr th {\n",
       "        vertical-align: top;\n",
       "    }\n",
       "\n",
       "    .dataframe thead th {\n",
       "        text-align: right;\n",
       "    }\n",
       "</style>\n",
       "<table border=\"1\" class=\"dataframe\">\n",
       "  <thead>\n",
       "    <tr style=\"text-align: right;\">\n",
       "      <th></th>\n",
       "      <th>Silhouette</th>\n",
       "      <th>Calinski-Harabasz</th>\n",
       "      <th>Davies-Bouldin</th>\n",
       "      <th>Homogeneity</th>\n",
       "      <th>Rand Index</th>\n",
       "      <th>Completeness</th>\n",
       "    </tr>\n",
       "  </thead>\n",
       "  <tbody>\n",
       "    <tr>\n",
       "      <th>0</th>\n",
       "      <td>0.8901</td>\n",
       "      <td>39686.0877</td>\n",
       "      <td>0.3911</td>\n",
       "      <td>0</td>\n",
       "      <td>0</td>\n",
       "      <td>0</td>\n",
       "    </tr>\n",
       "  </tbody>\n",
       "</table>\n",
       "</div>"
      ],
      "text/plain": [
       "   Silhouette  Calinski-Harabasz  Davies-Bouldin  Homogeneity  Rand Index  \\\n",
       "0      0.8901         39686.0877          0.3911            0           0   \n",
       "\n",
       "   Completeness  \n",
       "0             0  "
      ]
     },
     "metadata": {},
     "output_type": "display_data"
    }
   ],
   "source": [
    "kmeans = create_model('kmeans', num_clusters=3)"
   ]
  },
  {
   "cell_type": "code",
   "execution_count": 20,
   "metadata": {},
   "outputs": [
    {
     "data": {
      "image/png": "[encoded data removed]",
      "text/plain": [
       "<Figure size 576x396 with 1 Axes>"
      ]
     },
     "metadata": {},
     "output_type": "display_data"
    }
   ],
   "source": [
    "plot_model(kmeans, plot='elbow')"
   ]
  },
  {
   "cell_type": "code",
   "execution_count": 21,
   "metadata": {},
   "outputs": [
    {
     "data": {
      "image/png": "[encoded data removed]",
      "text/plain": [
       "<Figure size 576x396 with 1 Axes>"
      ]
     },
     "metadata": {},
     "output_type": "display_data"
    }
   ],
   "source": [
    "plot_model(kmeans, plot='silhouette')"
   ]
  },
  {
   "cell_type": "code",
   "execution_count": 22,
   "metadata": {},
   "outputs": [
    {
     "data": {
      "image/png": "[encoded data removed]",
      "text/plain": [
       "<Figure size 576x396 with 2 Axes>"
      ]
     },
     "metadata": {},
     "output_type": "display_data"
    }
   ],
   "source": [
    "plot_model(kmeans, plot='distance')"
   ]
  },
  {
   "cell_type": "code",
   "execution_count": 23,
   "metadata": {},
   "outputs": [
    {
     "name": "stdout",
     "output_type": "stream",
     "text": [
      "KMeans(algorithm='auto', copy_x=True, init='k-means++', max_iter=300,\n",
      "       n_clusters=3, n_init=10, n_jobs=-1, precompute_distances='deprecated',\n",
      "       random_state=123, tol=0.0001, verbose=0)\n"
     ]
    }
   ],
   "source": [
    "print(kmeans)"
   ]
  },
  {
   "cell_type": "code",
   "execution_count": 24,
   "metadata": {},
   "outputs": [
    {
     "data": {
      "text/html": [
       "<div>\n",
       "<style scoped>\n",
       "    .dataframe tbody tr th:only-of-type {\n",
       "        vertical-align: middle;\n",
       "    }\n",
       "\n",
       "    .dataframe tbody tr th {\n",
       "        vertical-align: top;\n",
       "    }\n",
       "\n",
       "    .dataframe thead th {\n",
       "        text-align: right;\n",
       "    }\n",
       "</style>\n",
       "<table border=\"1\" class=\"dataframe\">\n",
       "  <thead>\n",
       "    <tr style=\"text-align: right;\">\n",
       "      <th></th>\n",
       "      <th>longitude</th>\n",
       "      <th>latitude</th>\n",
       "      <th>RSD</th>\n",
       "      <th>LSD</th>\n",
       "      <th>Cluster</th>\n",
       "    </tr>\n",
       "  </thead>\n",
       "  <tbody>\n",
       "    <tr>\n",
       "      <th>0</th>\n",
       "      <td>-76.38</td>\n",
       "      <td>3.24</td>\n",
       "      <td>0.0</td>\n",
       "      <td>0.0</td>\n",
       "      <td>Cluster 0</td>\n",
       "    </tr>\n",
       "    <tr>\n",
       "      <th>1</th>\n",
       "      <td>-76.37</td>\n",
       "      <td>3.56</td>\n",
       "      <td>0.0</td>\n",
       "      <td>0.0</td>\n",
       "      <td>Cluster 0</td>\n",
       "    </tr>\n",
       "    <tr>\n",
       "      <th>2</th>\n",
       "      <td>-76.48</td>\n",
       "      <td>3.34</td>\n",
       "      <td>0.0</td>\n",
       "      <td>0.0</td>\n",
       "      <td>Cluster 0</td>\n",
       "    </tr>\n",
       "    <tr>\n",
       "      <th>3</th>\n",
       "      <td>-76.31</td>\n",
       "      <td>3.40</td>\n",
       "      <td>0.0</td>\n",
       "      <td>0.0</td>\n",
       "      <td>Cluster 0</td>\n",
       "    </tr>\n",
       "    <tr>\n",
       "      <th>4</th>\n",
       "      <td>-76.30</td>\n",
       "      <td>3.26</td>\n",
       "      <td>0.0</td>\n",
       "      <td>0.0</td>\n",
       "      <td>Cluster 0</td>\n",
       "    </tr>\n",
       "  </tbody>\n",
       "</table>\n",
       "</div>"
      ],
      "text/plain": [
       "   longitude  latitude  RSD  LSD    Cluster\n",
       "0     -76.38      3.24  0.0  0.0  Cluster 0\n",
       "1     -76.37      3.56  0.0  0.0  Cluster 0\n",
       "2     -76.48      3.34  0.0  0.0  Cluster 0\n",
       "3     -76.31      3.40  0.0  0.0  Cluster 0\n",
       "4     -76.30      3.26  0.0  0.0  Cluster 0"
      ]
     },
     "execution_count": 24,
     "metadata": {},
     "output_type": "execute_result"
    }
   ],
   "source": [
    "kmean_results = assign_model(kmeans)\n",
    "kmean_results.head()"
   ]
  },
  {
   "cell_type": "code",
   "execution_count": 25,
   "metadata": {},
   "outputs": [
    {
     "data": {
      "text/html": [
       "<div>\n",
       "<style scoped>\n",
       "    .dataframe tbody tr th:only-of-type {\n",
       "        vertical-align: middle;\n",
       "    }\n",
       "\n",
       "    .dataframe tbody tr th {\n",
       "        vertical-align: top;\n",
       "    }\n",
       "\n",
       "    .dataframe thead th {\n",
       "        text-align: right;\n",
       "    }\n",
       "</style>\n",
       "<table border=\"1\" class=\"dataframe\">\n",
       "  <thead>\n",
       "    <tr style=\"text-align: right;\">\n",
       "      <th></th>\n",
       "      <th>longitude</th>\n",
       "      <th>latitude</th>\n",
       "      <th>RSD</th>\n",
       "      <th>LSD</th>\n",
       "      <th>Cluster</th>\n",
       "    </tr>\n",
       "  </thead>\n",
       "  <tbody>\n",
       "    <tr>\n",
       "      <th>0</th>\n",
       "      <td>-76.38</td>\n",
       "      <td>3.24</td>\n",
       "      <td>0.0</td>\n",
       "      <td>0.0</td>\n",
       "      <td>Cluster 0</td>\n",
       "    </tr>\n",
       "    <tr>\n",
       "      <th>1</th>\n",
       "      <td>-76.37</td>\n",
       "      <td>3.56</td>\n",
       "      <td>0.0</td>\n",
       "      <td>0.0</td>\n",
       "      <td>Cluster 0</td>\n",
       "    </tr>\n",
       "    <tr>\n",
       "      <th>2</th>\n",
       "      <td>-76.48</td>\n",
       "      <td>3.34</td>\n",
       "      <td>0.0</td>\n",
       "      <td>0.0</td>\n",
       "      <td>Cluster 0</td>\n",
       "    </tr>\n",
       "    <tr>\n",
       "      <th>3</th>\n",
       "      <td>-76.31</td>\n",
       "      <td>3.40</td>\n",
       "      <td>0.0</td>\n",
       "      <td>0.0</td>\n",
       "      <td>Cluster 0</td>\n",
       "    </tr>\n",
       "    <tr>\n",
       "      <th>4</th>\n",
       "      <td>-76.30</td>\n",
       "      <td>3.26</td>\n",
       "      <td>0.0</td>\n",
       "      <td>0.0</td>\n",
       "      <td>Cluster 0</td>\n",
       "    </tr>\n",
       "    <tr>\n",
       "      <th>...</th>\n",
       "      <td>...</td>\n",
       "      <td>...</td>\n",
       "      <td>...</td>\n",
       "      <td>...</td>\n",
       "      <td>...</td>\n",
       "    </tr>\n",
       "    <tr>\n",
       "      <th>20800</th>\n",
       "      <td>-76.53</td>\n",
       "      <td>3.17</td>\n",
       "      <td>0.0</td>\n",
       "      <td>0.0</td>\n",
       "      <td>Cluster 0</td>\n",
       "    </tr>\n",
       "    <tr>\n",
       "      <th>20801</th>\n",
       "      <td>-76.29</td>\n",
       "      <td>3.37</td>\n",
       "      <td>0.0</td>\n",
       "      <td>0.0</td>\n",
       "      <td>Cluster 0</td>\n",
       "    </tr>\n",
       "    <tr>\n",
       "      <th>20802</th>\n",
       "      <td>-76.29</td>\n",
       "      <td>3.37</td>\n",
       "      <td>0.0</td>\n",
       "      <td>0.0</td>\n",
       "      <td>Cluster 0</td>\n",
       "    </tr>\n",
       "    <tr>\n",
       "      <th>20803</th>\n",
       "      <td>-76.33</td>\n",
       "      <td>3.28</td>\n",
       "      <td>0.0</td>\n",
       "      <td>0.0</td>\n",
       "      <td>Cluster 0</td>\n",
       "    </tr>\n",
       "    <tr>\n",
       "      <th>20804</th>\n",
       "      <td>-76.30</td>\n",
       "      <td>3.37</td>\n",
       "      <td>0.0</td>\n",
       "      <td>0.0</td>\n",
       "      <td>Cluster 0</td>\n",
       "    </tr>\n",
       "  </tbody>\n",
       "</table>\n",
       "<p>20805 rows × 5 columns</p>\n",
       "</div>"
      ],
      "text/plain": [
       "       longitude  latitude  RSD  LSD    Cluster\n",
       "0         -76.38      3.24  0.0  0.0  Cluster 0\n",
       "1         -76.37      3.56  0.0  0.0  Cluster 0\n",
       "2         -76.48      3.34  0.0  0.0  Cluster 0\n",
       "3         -76.31      3.40  0.0  0.0  Cluster 0\n",
       "4         -76.30      3.26  0.0  0.0  Cluster 0\n",
       "...          ...       ...  ...  ...        ...\n",
       "20800     -76.53      3.17  0.0  0.0  Cluster 0\n",
       "20801     -76.29      3.37  0.0  0.0  Cluster 0\n",
       "20802     -76.29      3.37  0.0  0.0  Cluster 0\n",
       "20803     -76.33      3.28  0.0  0.0  Cluster 0\n",
       "20804     -76.30      3.37  0.0  0.0  Cluster 0\n",
       "\n",
       "[20805 rows x 5 columns]"
      ]
     },
     "execution_count": 25,
     "metadata": {},
     "output_type": "execute_result"
    }
   ],
   "source": [
    "kmean_results"
   ]
  },
  {
   "cell_type": "code",
   "execution_count": 26,
   "metadata": {},
   "outputs": [],
   "source": [
    "sugarcane_average['cluster'] = kmean_results['Cluster']"
   ]
  },
  {
   "cell_type": "code",
   "execution_count": 29,
   "metadata": {},
   "outputs": [],
   "source": [
    "sugarcane_average.to_csv('sugarcane_clusters.csv', index=False)"
   ]
  },
  {
   "cell_type": "code",
   "execution_count": null,
   "metadata": {},
   "outputs": [],
   "source": []
  }
 ],
 "metadata": {
  "interpreter": {
   "hash": "a25342080bd55894643586c07b166612ec057e7da7ab3f45100bfb4c984ebbe4"
  },
  "kernelspec": {
   "display_name": "Python 3.6.13 64-bit ('models_tesis': conda)",
   "language": "python",
   "name": "python3"
  },
  "language_info": {
   "codemirror_mode": {
    "name": "ipython",
    "version": 3
   },
   "file_extension": ".py",
   "mimetype": "text/x-python",
   "name": "python",
   "nbconvert_exporter": "python",
   "pygments_lexer": "ipython3",
   "version": "3.6.13"
  },
  "orig_nbformat": 4
 },
 "nbformat": 4,
 "nbformat_minor": 2
}
