{
 "cells": [
  {
   "cell_type": "code",
   "execution_count": 1,
   "metadata": {},
   "outputs": [],
   "source": [
    "import numpy as np \n",
    "import pandas as pd\n",
    "import matplotlib.pyplot as plt\n",
    "from st_dbscan import ST_DBSCAN"
   ]
  },
  {
   "cell_type": "code",
   "execution_count": 2,
   "metadata": {},
   "outputs": [
    {
     "data": {
      "text/html": [
       "<div>\n",
       "<style scoped>\n",
       "    .dataframe tbody tr th:only-of-type {\n",
       "        vertical-align: middle;\n",
       "    }\n",
       "\n",
       "    .dataframe tbody tr th {\n",
       "        vertical-align: top;\n",
       "    }\n",
       "\n",
       "    .dataframe thead th {\n",
       "        text-align: right;\n",
       "    }\n",
       "</style>\n",
       "<table border=\"1\" class=\"dataframe\">\n",
       "  <thead>\n",
       "    <tr style=\"text-align: right;\">\n",
       "      <th></th>\n",
       "      <th>year</th>\n",
       "      <th>month</th>\n",
       "      <th>longitude</th>\n",
       "      <th>latitude</th>\n",
       "      <th>ingenio</th>\n",
       "      <th>hacienda</th>\n",
       "      <th>area</th>\n",
       "      <th>variedad</th>\n",
       "      <th>edad</th>\n",
       "      <th>corte</th>\n",
       "      <th>...</th>\n",
       "      <th>T2M_MIN</th>\n",
       "      <th>densidad_aparente_0-30cm_mean</th>\n",
       "      <th>intercambio_catiónico_0-30cm_mean</th>\n",
       "      <th>fraccion_gruesa_0-30cm_mean</th>\n",
       "      <th>arcillas_0-30cm_mean</th>\n",
       "      <th>nitrogeno_0-30cm_mean</th>\n",
       "      <th>ph_0-30cm_mean</th>\n",
       "      <th>arena_0-30cm_mean</th>\n",
       "      <th>limo_0-30cm_mean</th>\n",
       "      <th>carbono_organico_0-30cm_mean</th>\n",
       "    </tr>\n",
       "  </thead>\n",
       "  <tbody>\n",
       "    <tr>\n",
       "      <th>0</th>\n",
       "      <td>2007</td>\n",
       "      <td>5</td>\n",
       "      <td>-76.38</td>\n",
       "      <td>3.24</td>\n",
       "      <td>13</td>\n",
       "      <td>MA</td>\n",
       "      <td>4.87</td>\n",
       "      <td>CC 85-92</td>\n",
       "      <td>7.03</td>\n",
       "      <td>1</td>\n",
       "      <td>...</td>\n",
       "      <td>10.63</td>\n",
       "      <td>1.35</td>\n",
       "      <td>19.37</td>\n",
       "      <td>7.23</td>\n",
       "      <td>35.10</td>\n",
       "      <td>21.30</td>\n",
       "      <td>5.83</td>\n",
       "      <td>23.07</td>\n",
       "      <td>41.80</td>\n",
       "      <td>32.77</td>\n",
       "    </tr>\n",
       "    <tr>\n",
       "      <th>1</th>\n",
       "      <td>2007</td>\n",
       "      <td>5</td>\n",
       "      <td>-76.37</td>\n",
       "      <td>3.56</td>\n",
       "      <td>13</td>\n",
       "      <td>MA</td>\n",
       "      <td>4.87</td>\n",
       "      <td>CC 85-92</td>\n",
       "      <td>7.03</td>\n",
       "      <td>1</td>\n",
       "      <td>...</td>\n",
       "      <td>12.42</td>\n",
       "      <td>1.41</td>\n",
       "      <td>22.03</td>\n",
       "      <td>4.33</td>\n",
       "      <td>39.63</td>\n",
       "      <td>22.00</td>\n",
       "      <td>5.87</td>\n",
       "      <td>20.70</td>\n",
       "      <td>39.67</td>\n",
       "      <td>33.37</td>\n",
       "    </tr>\n",
       "    <tr>\n",
       "      <th>2</th>\n",
       "      <td>2007</td>\n",
       "      <td>5</td>\n",
       "      <td>-76.48</td>\n",
       "      <td>3.34</td>\n",
       "      <td>13</td>\n",
       "      <td>MA</td>\n",
       "      <td>4.87</td>\n",
       "      <td>CC 85-92</td>\n",
       "      <td>7.03</td>\n",
       "      <td>1</td>\n",
       "      <td>...</td>\n",
       "      <td>12.42</td>\n",
       "      <td>1.37</td>\n",
       "      <td>20.60</td>\n",
       "      <td>4.10</td>\n",
       "      <td>41.80</td>\n",
       "      <td>25.70</td>\n",
       "      <td>5.60</td>\n",
       "      <td>22.47</td>\n",
       "      <td>35.70</td>\n",
       "      <td>38.50</td>\n",
       "    </tr>\n",
       "    <tr>\n",
       "      <th>3</th>\n",
       "      <td>2007</td>\n",
       "      <td>5</td>\n",
       "      <td>-76.31</td>\n",
       "      <td>3.40</td>\n",
       "      <td>13</td>\n",
       "      <td>MA</td>\n",
       "      <td>4.87</td>\n",
       "      <td>CC 85-92</td>\n",
       "      <td>7.03</td>\n",
       "      <td>1</td>\n",
       "      <td>...</td>\n",
       "      <td>12.42</td>\n",
       "      <td>1.41</td>\n",
       "      <td>22.90</td>\n",
       "      <td>2.50</td>\n",
       "      <td>35.63</td>\n",
       "      <td>21.96</td>\n",
       "      <td>5.93</td>\n",
       "      <td>26.60</td>\n",
       "      <td>37.77</td>\n",
       "      <td>26.30</td>\n",
       "    </tr>\n",
       "    <tr>\n",
       "      <th>4</th>\n",
       "      <td>2007</td>\n",
       "      <td>5</td>\n",
       "      <td>-76.30</td>\n",
       "      <td>3.26</td>\n",
       "      <td>13</td>\n",
       "      <td>MA</td>\n",
       "      <td>4.87</td>\n",
       "      <td>CC 85-92</td>\n",
       "      <td>7.03</td>\n",
       "      <td>1</td>\n",
       "      <td>...</td>\n",
       "      <td>12.42</td>\n",
       "      <td>1.34</td>\n",
       "      <td>18.53</td>\n",
       "      <td>6.03</td>\n",
       "      <td>37.20</td>\n",
       "      <td>20.22</td>\n",
       "      <td>5.73</td>\n",
       "      <td>23.70</td>\n",
       "      <td>39.17</td>\n",
       "      <td>31.67</td>\n",
       "    </tr>\n",
       "  </tbody>\n",
       "</table>\n",
       "<p>5 rows × 35 columns</p>\n",
       "</div>"
      ],
      "text/plain": [
       "   year  month  longitude  latitude  ingenio hacienda  area  variedad  edad  \\\n",
       "0  2007      5     -76.38      3.24       13       MA  4.87  CC 85-92  7.03   \n",
       "1  2007      5     -76.37      3.56       13       MA  4.87  CC 85-92  7.03   \n",
       "2  2007      5     -76.48      3.34       13       MA  4.87  CC 85-92  7.03   \n",
       "3  2007      5     -76.31      3.40       13       MA  4.87  CC 85-92  7.03   \n",
       "4  2007      5     -76.30      3.26       13       MA  4.87  CC 85-92  7.03   \n",
       "\n",
       "   corte  ...  T2M_MIN  densidad_aparente_0-30cm_mean  \\\n",
       "0      1  ...    10.63                           1.35   \n",
       "1      1  ...    12.42                           1.41   \n",
       "2      1  ...    12.42                           1.37   \n",
       "3      1  ...    12.42                           1.41   \n",
       "4      1  ...    12.42                           1.34   \n",
       "\n",
       "   intercambio_catiónico_0-30cm_mean  fraccion_gruesa_0-30cm_mean  \\\n",
       "0                              19.37                         7.23   \n",
       "1                              22.03                         4.33   \n",
       "2                              20.60                         4.10   \n",
       "3                              22.90                         2.50   \n",
       "4                              18.53                         6.03   \n",
       "\n",
       "   arcillas_0-30cm_mean  nitrogeno_0-30cm_mean  ph_0-30cm_mean  \\\n",
       "0                 35.10                  21.30            5.83   \n",
       "1                 39.63                  22.00            5.87   \n",
       "2                 41.80                  25.70            5.60   \n",
       "3                 35.63                  21.96            5.93   \n",
       "4                 37.20                  20.22            5.73   \n",
       "\n",
       "   arena_0-30cm_mean  limo_0-30cm_mean  carbono_organico_0-30cm_mean  \n",
       "0              23.07             41.80                         32.77  \n",
       "1              20.70             39.67                         33.37  \n",
       "2              22.47             35.70                         38.50  \n",
       "3              26.60             37.77                         26.30  \n",
       "4              23.70             39.17                         31.67  \n",
       "\n",
       "[5 rows x 35 columns]"
      ]
     },
     "execution_count": 2,
     "metadata": {},
     "output_type": "execute_result"
    }
   ],
   "source": [
    "df = pd.read_csv('sugarcane_base.csv')\n",
    "df.head()"
   ]
  },
  {
   "cell_type": "code",
   "execution_count": 3,
   "metadata": {},
   "outputs": [],
   "source": [
    "# normalize the data \n",
    "df['longitude'] = (df['longitude'] - df['longitude'].min()) / (df['longitude'].max() - df['longitude'].min())\n",
    "df['latitude'] = (df['latitude'] - df['latitude'].min()) / (df['latitude'].max() - df['latitude'].min())\n",
    "# transform to numpy array\n",
    "data = df.loc[:, ['year','longitude','latitude']].values"
   ]
  },
  {
   "cell_type": "code",
   "execution_count": 4,
   "metadata": {},
   "outputs": [],
   "source": [
    "st_dbscan = ST_DBSCAN(eps1 = 0.05, eps2 = 10, min_samples = 5) \n",
    "# for list of all parameter description see - src code comments"
   ]
  },
  {
   "cell_type": "code",
   "execution_count": 5,
   "metadata": {},
   "outputs": [],
   "source": [
    "clusters = st_dbscan.fit(data) "
   ]
  },
  {
   "cell_type": "code",
   "execution_count": 6,
   "metadata": {},
   "outputs": [],
   "source": [
    "def plot(data, labels):\n",
    "    colors = ['#a6cee3','#1f78b4','#b2df8a','#33a02c','#fb9a99','#e31a1c','#fdbf6f','#ff7f00','#cab2d6','#6a3d9a']\n",
    "    \n",
    "    for i in range(-1, len(set(labels))):\n",
    "        if i == -1:\n",
    "            col = [0, 0, 0, 1]\n",
    "        else:\n",
    "            col = colors[i % len(colors)]\n",
    "        \n",
    "        clust = data[np.where(labels==i)]\n",
    "        plt.scatter(clust[:,0], clust[:,1], c=[col], s=1)\n",
    "    plt.show()\n",
    "\n",
    "    return None"
   ]
  },
  {
   "cell_type": "code",
   "execution_count": 7,
   "metadata": {},
   "outputs": [
    {
     "data": {
      "image/png": "[encoded data removed]",
      "text/plain": [
       "<Figure size 432x288 with 1 Axes>"
      ]
     },
     "metadata": {
      "needs_background": "light"
     },
     "output_type": "display_data"
    }
   ],
   "source": [
    "plot(data[:,1:], st_dbscan.labels)"
   ]
  },
  {
   "cell_type": "code",
   "execution_count": 8,
   "metadata": {},
   "outputs": [
    {
     "data": {
      "text/plain": [
       "4"
      ]
     },
     "execution_count": 8,
     "metadata": {},
     "output_type": "execute_result"
    }
   ],
   "source": [
    "st_dbscan.labels.max()"
   ]
  },
  {
   "cell_type": "code",
   "execution_count": 9,
   "metadata": {},
   "outputs": [
    {
     "data": {
      "text/plain": [
       "'euclidean'"
      ]
     },
     "execution_count": 9,
     "metadata": {},
     "output_type": "execute_result"
    }
   ],
   "source": [
    "st_dbscan.metric"
   ]
  },
  {
   "cell_type": "code",
   "execution_count": 10,
   "metadata": {},
   "outputs": [
    {
     "data": {
      "text/plain": [
       "5"
      ]
     },
     "execution_count": 10,
     "metadata": {},
     "output_type": "execute_result"
    }
   ],
   "source": [
    "st_dbscan.min_samples"
   ]
  },
  {
   "cell_type": "code",
   "execution_count": 11,
   "metadata": {},
   "outputs": [
    {
     "data": {
      "text/plain": [
       "-1"
      ]
     },
     "execution_count": 11,
     "metadata": {},
     "output_type": "execute_result"
    }
   ],
   "source": [
    "clusters.n_jobs"
   ]
  },
  {
   "cell_type": "code",
   "execution_count": 12,
   "metadata": {},
   "outputs": [
    {
     "data": {
      "text/plain": [
       "20805"
      ]
     },
     "execution_count": 12,
     "metadata": {},
     "output_type": "execute_result"
    }
   ],
   "source": [
    "len(clusters.labels)"
   ]
  },
  {
   "cell_type": "code",
   "execution_count": 13,
   "metadata": {},
   "outputs": [
    {
     "data": {
      "text/plain": [
       "numpy.ndarray"
      ]
     },
     "execution_count": 13,
     "metadata": {},
     "output_type": "execute_result"
    }
   ],
   "source": [
    "type(clusters.labels)"
   ]
  },
  {
   "cell_type": "code",
   "execution_count": 14,
   "metadata": {},
   "outputs": [
    {
     "data": {
      "text/plain": [
       "0        0\n",
       "1        0\n",
       "2        0\n",
       "3        0\n",
       "4        0\n",
       "        ..\n",
       "20800    0\n",
       "20801    0\n",
       "20802    0\n",
       "20803    0\n",
       "20804    0\n",
       "Length: 20805, dtype: int64"
      ]
     },
     "execution_count": 14,
     "metadata": {},
     "output_type": "execute_result"
    }
   ],
   "source": [
    "pd.Series(clusters.labels)"
   ]
  },
  {
   "cell_type": "code",
   "execution_count": 15,
   "metadata": {},
   "outputs": [],
   "source": [
    "df['cluster'] = pd.Series(clusters.labels)"
   ]
  },
  {
   "cell_type": "code",
   "execution_count": 16,
   "metadata": {},
   "outputs": [
    {
     "data": {
      "text/html": [
       "<div>\n",
       "<style scoped>\n",
       "    .dataframe tbody tr th:only-of-type {\n",
       "        vertical-align: middle;\n",
       "    }\n",
       "\n",
       "    .dataframe tbody tr th {\n",
       "        vertical-align: top;\n",
       "    }\n",
       "\n",
       "    .dataframe thead th {\n",
       "        text-align: right;\n",
       "    }\n",
       "</style>\n",
       "<table border=\"1\" class=\"dataframe\">\n",
       "  <thead>\n",
       "    <tr style=\"text-align: right;\">\n",
       "      <th></th>\n",
       "      <th>year</th>\n",
       "      <th>month</th>\n",
       "      <th>longitude</th>\n",
       "      <th>latitude</th>\n",
       "      <th>ingenio</th>\n",
       "      <th>hacienda</th>\n",
       "      <th>area</th>\n",
       "      <th>variedad</th>\n",
       "      <th>edad</th>\n",
       "      <th>corte</th>\n",
       "      <th>...</th>\n",
       "      <th>densidad_aparente_0-30cm_mean</th>\n",
       "      <th>intercambio_catiónico_0-30cm_mean</th>\n",
       "      <th>fraccion_gruesa_0-30cm_mean</th>\n",
       "      <th>arcillas_0-30cm_mean</th>\n",
       "      <th>nitrogeno_0-30cm_mean</th>\n",
       "      <th>ph_0-30cm_mean</th>\n",
       "      <th>arena_0-30cm_mean</th>\n",
       "      <th>limo_0-30cm_mean</th>\n",
       "      <th>carbono_organico_0-30cm_mean</th>\n",
       "      <th>cluster</th>\n",
       "    </tr>\n",
       "  </thead>\n",
       "  <tbody>\n",
       "    <tr>\n",
       "      <th>0</th>\n",
       "      <td>2007</td>\n",
       "      <td>5</td>\n",
       "      <td>0.320988</td>\n",
       "      <td>0.104265</td>\n",
       "      <td>13</td>\n",
       "      <td>MA</td>\n",
       "      <td>4.87</td>\n",
       "      <td>CC 85-92</td>\n",
       "      <td>7.03</td>\n",
       "      <td>1</td>\n",
       "      <td>...</td>\n",
       "      <td>1.35</td>\n",
       "      <td>19.37</td>\n",
       "      <td>7.23</td>\n",
       "      <td>35.10</td>\n",
       "      <td>21.30</td>\n",
       "      <td>5.83</td>\n",
       "      <td>23.07</td>\n",
       "      <td>41.80</td>\n",
       "      <td>32.77</td>\n",
       "      <td>0</td>\n",
       "    </tr>\n",
       "    <tr>\n",
       "      <th>1</th>\n",
       "      <td>2007</td>\n",
       "      <td>5</td>\n",
       "      <td>0.333333</td>\n",
       "      <td>0.255924</td>\n",
       "      <td>13</td>\n",
       "      <td>MA</td>\n",
       "      <td>4.87</td>\n",
       "      <td>CC 85-92</td>\n",
       "      <td>7.03</td>\n",
       "      <td>1</td>\n",
       "      <td>...</td>\n",
       "      <td>1.41</td>\n",
       "      <td>22.03</td>\n",
       "      <td>4.33</td>\n",
       "      <td>39.63</td>\n",
       "      <td>22.00</td>\n",
       "      <td>5.87</td>\n",
       "      <td>20.70</td>\n",
       "      <td>39.67</td>\n",
       "      <td>33.37</td>\n",
       "      <td>0</td>\n",
       "    </tr>\n",
       "    <tr>\n",
       "      <th>2</th>\n",
       "      <td>2007</td>\n",
       "      <td>5</td>\n",
       "      <td>0.197531</td>\n",
       "      <td>0.151659</td>\n",
       "      <td>13</td>\n",
       "      <td>MA</td>\n",
       "      <td>4.87</td>\n",
       "      <td>CC 85-92</td>\n",
       "      <td>7.03</td>\n",
       "      <td>1</td>\n",
       "      <td>...</td>\n",
       "      <td>1.37</td>\n",
       "      <td>20.60</td>\n",
       "      <td>4.10</td>\n",
       "      <td>41.80</td>\n",
       "      <td>25.70</td>\n",
       "      <td>5.60</td>\n",
       "      <td>22.47</td>\n",
       "      <td>35.70</td>\n",
       "      <td>38.50</td>\n",
       "      <td>0</td>\n",
       "    </tr>\n",
       "    <tr>\n",
       "      <th>3</th>\n",
       "      <td>2007</td>\n",
       "      <td>5</td>\n",
       "      <td>0.407407</td>\n",
       "      <td>0.180095</td>\n",
       "      <td>13</td>\n",
       "      <td>MA</td>\n",
       "      <td>4.87</td>\n",
       "      <td>CC 85-92</td>\n",
       "      <td>7.03</td>\n",
       "      <td>1</td>\n",
       "      <td>...</td>\n",
       "      <td>1.41</td>\n",
       "      <td>22.90</td>\n",
       "      <td>2.50</td>\n",
       "      <td>35.63</td>\n",
       "      <td>21.96</td>\n",
       "      <td>5.93</td>\n",
       "      <td>26.60</td>\n",
       "      <td>37.77</td>\n",
       "      <td>26.30</td>\n",
       "      <td>0</td>\n",
       "    </tr>\n",
       "    <tr>\n",
       "      <th>4</th>\n",
       "      <td>2007</td>\n",
       "      <td>5</td>\n",
       "      <td>0.419753</td>\n",
       "      <td>0.113744</td>\n",
       "      <td>13</td>\n",
       "      <td>MA</td>\n",
       "      <td>4.87</td>\n",
       "      <td>CC 85-92</td>\n",
       "      <td>7.03</td>\n",
       "      <td>1</td>\n",
       "      <td>...</td>\n",
       "      <td>1.34</td>\n",
       "      <td>18.53</td>\n",
       "      <td>6.03</td>\n",
       "      <td>37.20</td>\n",
       "      <td>20.22</td>\n",
       "      <td>5.73</td>\n",
       "      <td>23.70</td>\n",
       "      <td>39.17</td>\n",
       "      <td>31.67</td>\n",
       "      <td>0</td>\n",
       "    </tr>\n",
       "  </tbody>\n",
       "</table>\n",
       "<p>5 rows × 36 columns</p>\n",
       "</div>"
      ],
      "text/plain": [
       "   year  month  longitude  latitude  ingenio hacienda  area  variedad  edad  \\\n",
       "0  2007      5   0.320988  0.104265       13       MA  4.87  CC 85-92  7.03   \n",
       "1  2007      5   0.333333  0.255924       13       MA  4.87  CC 85-92  7.03   \n",
       "2  2007      5   0.197531  0.151659       13       MA  4.87  CC 85-92  7.03   \n",
       "3  2007      5   0.407407  0.180095       13       MA  4.87  CC 85-92  7.03   \n",
       "4  2007      5   0.419753  0.113744       13       MA  4.87  CC 85-92  7.03   \n",
       "\n",
       "   corte  ...  densidad_aparente_0-30cm_mean  \\\n",
       "0      1  ...                           1.35   \n",
       "1      1  ...                           1.41   \n",
       "2      1  ...                           1.37   \n",
       "3      1  ...                           1.41   \n",
       "4      1  ...                           1.34   \n",
       "\n",
       "   intercambio_catiónico_0-30cm_mean  fraccion_gruesa_0-30cm_mean  \\\n",
       "0                              19.37                         7.23   \n",
       "1                              22.03                         4.33   \n",
       "2                              20.60                         4.10   \n",
       "3                              22.90                         2.50   \n",
       "4                              18.53                         6.03   \n",
       "\n",
       "   arcillas_0-30cm_mean  nitrogeno_0-30cm_mean  ph_0-30cm_mean  \\\n",
       "0                 35.10                  21.30            5.83   \n",
       "1                 39.63                  22.00            5.87   \n",
       "2                 41.80                  25.70            5.60   \n",
       "3                 35.63                  21.96            5.93   \n",
       "4                 37.20                  20.22            5.73   \n",
       "\n",
       "   arena_0-30cm_mean  limo_0-30cm_mean  carbono_organico_0-30cm_mean  cluster  \n",
       "0              23.07             41.80                         32.77        0  \n",
       "1              20.70             39.67                         33.37        0  \n",
       "2              22.47             35.70                         38.50        0  \n",
       "3              26.60             37.77                         26.30        0  \n",
       "4              23.70             39.17                         31.67        0  \n",
       "\n",
       "[5 rows x 36 columns]"
      ]
     },
     "execution_count": 16,
     "metadata": {},
     "output_type": "execute_result"
    }
   ],
   "source": [
    "df.head()"
   ]
  },
  {
   "cell_type": "code",
   "execution_count": 17,
   "metadata": {},
   "outputs": [],
   "source": [
    "df.to_csv('sugarcane_spatial_cluster.csv', index = False)"
   ]
  }
 ],
 "metadata": {
  "interpreter": {
   "hash": "f0b691bbe7c2dda6b626fb0442deef7268bc64d41743f2042bf3a9dc59a8cc43"
  },
  "kernelspec": {
   "display_name": "Python 3.9.9 64-bit ('geospatial': conda)",
   "language": "python",
   "name": "python3"
  },
  "language_info": {
   "codemirror_mode": {
    "name": "ipython",
    "version": 3
   },
   "file_extension": ".py",
   "mimetype": "text/x-python",
   "name": "python",
   "nbconvert_exporter": "python",
   "pygments_lexer": "ipython3",
   "version": "3.9.9"
  },
  "orig_nbformat": 4
 },
 "nbformat": 4,
 "nbformat_minor": 2
}
